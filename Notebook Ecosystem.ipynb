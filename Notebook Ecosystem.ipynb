{
 "metadata": {
  "name": "",
  "signature": "sha256:2e034a055c4364d5ae110bb9da9494b9bdac4859197b6270c471b5128b7f6463"
 },
 "nbformat": 3,
 "nbformat_minor": 0,
 "worksheets": [
  {
   "cells": [
    {
     "cell_type": "markdown",
     "metadata": {
      "slideshow": {
       "slide_type": "slide"
      }
     },
     "source": [
      "<div class=\"slide-header\">The IPython Notebook Ecosystem</div>"
     ]
    },
    {
     "cell_type": "code",
     "collapsed": false,
     "input": [
      "%pylab inline\n",
      "%run talktools"
     ],
     "language": "python",
     "metadata": {
      "slideshow": {
       "slide_type": "skip"
      }
     },
     "outputs": [
      {
       "output_type": "stream",
       "stream": "stdout",
       "text": [
        "Populating the interactive namespace from numpy and matplotlib\n"
       ]
      },
      {
       "html": [
        "<style>\n",
        "/*\n",
        "   Simple CSS styling for using IPython Notebooks for talks.\n",
        "\n",
        "   Author: Fernando Perez <fernando.perez@berkeley.edu>\n",
        "*/\n",
        "\n",
        ".talk-title\n",
        "{\n",
        "  color: #498AF3;\n",
        "  font-size: 220%;\n",
        "  font-weight:bold;\n",
        "  line-height: 1.2;\n",
        "  margin: 10px 50px 10px;\n",
        "  }\n",
        "\n",
        ".talk-subtitle\n",
        "{\n",
        "  color: #386BBC;\n",
        "  font-size: 150%;\n",
        "  font-weight:bold;\n",
        "  line-height: 1.2;\n",
        "  margin: 20px 50px 20px;\n",
        "  }\n",
        "\n",
        ".slide-header, p.slide-header\n",
        "{\n",
        "  color: #498AF3;\n",
        "  font-size: 180%;\n",
        "  font-weight:bold;\n",
        "  margin: 0px 20px 10px;\n",
        "  page-break-before: always;\n",
        "  text-align: center;\n",
        "  }\n",
        "\n",
        ".rendered_html\n",
        "{\n",
        "  color: #2C5494;\n",
        "  font-family: Ubuntu;\n",
        "  font-size: 170%;\n",
        "  line-height: 1.1;\n",
        "  margin: 0.5em 0;\n",
        "  }\n",
        "\n",
        ".rendered_html h1\n",
        "{\n",
        "  color: #498AF3;\n",
        "  line-height: 1.2;\n",
        "  margin: 0.15em 0em 0.5em;\n",
        "  page-break-before: always;\n",
        "  text-align: center;\n",
        "  }\n",
        "\n",
        "\n",
        ".rendered_html h2\n",
        "{\n",
        "  color: #386BBC;\n",
        "  line-height: 1.2;\n",
        "  margin: 1.1em 0em 0.5em;\n",
        "  }\n",
        "\n",
        ".rendered_html h3\n",
        "{\n",
        "  font-size: 100%;\n",
        "  line-height: 1.2;\n",
        "  margin: 1.1em 0em 0.5em;\n",
        "  }\n",
        "\n",
        ".rendered_html h5\n",
        "{\n",
        "  font-size: 50%;\n",
        "  line-height: 1;\n",
        "  margin: 0.3em 0em 0.3em;\n",
        "  font-weight: bold;\n",
        "  text-align: center;\n",
        "  }\n",
        "\n",
        ".rendered_html h6\n",
        "{\n",
        "  font-size: 50%;\n",
        "  line-height: 1;\n",
        "  margin: 0.3em 0em 0.3em;\n",
        "  font-weight: normal;\n",
        "  text-align: center;\n",
        "  }\n",
        "\n",
        ".rendered_html li\n",
        "{\n",
        "  line-height: 1.8;\n",
        "  }\n",
        "\n",
        ".input_prompt, .CodeMirror-lines, .output_area\n",
        "{\n",
        "  font-family: Consolas;\n",
        "  font-size: 120%;\n",
        "  }\n",
        "\n",
        ".gap-above\n",
        "{\n",
        "  padding-top: 200px;\n",
        "  }\n",
        "\n",
        ".gap01\n",
        "{\n",
        "  padding-top: 10px;\n",
        "  }\n",
        "\n",
        ".gap05\n",
        "{\n",
        "  padding-top: 50px;\n",
        "  }\n",
        "\n",
        ".gap1\n",
        "{\n",
        "  padding-top: 100px;\n",
        "  }\n",
        "\n",
        ".gap2\n",
        "{\n",
        "  padding-top: 200px;\n",
        "  }\n",
        "\n",
        ".gap3\n",
        "{\n",
        "  padding-top: 300px;\n",
        "  }\n",
        "\n",
        ".emph\n",
        "{\n",
        "  color: #386BBC;\n",
        "  }\n",
        "\n",
        ".strike\n",
        "{\n",
        "  text-decoration:line-through;\n",
        "  color: #94B8F3;\n",
        "  }\n",
        "\n",
        ".warn\n",
        "{\n",
        "  color: red;\n",
        "  }\n",
        "\n",
        ".center\n",
        "{\n",
        "  text-align: center;\n",
        "  }\n",
        "\n",
        ".nb_link\n",
        "{\n",
        "    padding-bottom: 0.5em;\n",
        "}\n",
        "\n",
        "</style>\n"
       ],
       "metadata": {},
       "output_type": "display_data",
       "text": [
        "<IPython.core.display.HTML at 0x7f413ccfb150>"
       ]
      }
     ],
     "prompt_number": 1
    },
    {
     "cell_type": "markdown",
     "metadata": {
      "slideshow": {
       "slide_type": "slide"
      }
     },
     "source": [
      "# Reproducible research..."
     ]
    },
    {
     "cell_type": "code",
     "collapsed": false,
     "input": [
      "website('http://www.nature.com/ismej/journal/v7/n3/full/ismej2012123a.html', None)"
     ],
     "language": "python",
     "metadata": {},
     "outputs": [
      {
       "html": [
        "<iframe src=\"http://www.nature.com/ismej/journal/v7/n3/full/ismej2012123a.html\"  width=\"800\" height=\"450\"></iframe>"
       ],
       "metadata": {},
       "output_type": "pyout",
       "prompt_number": 21,
       "text": [
        "<IPython.core.display.HTML at 0x3119610>"
       ]
      }
     ],
     "prompt_number": 21
    },
    {
     "cell_type": "markdown",
     "metadata": {
      "slideshow": {
       "slide_type": "slide"
      }
     },
     "source": [
      "# Notebooks and AMIs"
     ]
    },
    {
     "cell_type": "code",
     "collapsed": false,
     "input": [
      "website('http://qiime.org/home_static/nih-cloud-apr2012', None)"
     ],
     "language": "python",
     "metadata": {},
     "outputs": [
      {
       "html": [
        "<iframe src=\"http://qiime.org/home_static/nih-cloud-apr2012\"  width=\"800\" height=\"450\"></iframe>"
       ],
       "metadata": {},
       "output_type": "pyout",
       "prompt_number": 18,
       "text": [
        "<IPython.core.display.HTML at 0x3119290>"
       ]
      }
     ],
     "prompt_number": 18
    },
    {
     "cell_type": "markdown",
     "metadata": {
      "slideshow": {
       "slide_type": "slide"
      }
     },
     "source": [
      "<div class=\"slide-header\">Notebook-based technical blogs</div>\n",
      "## Jake VanderPlas (astronomy/ML at UW)"
     ]
    },
    {
     "cell_type": "code",
     "collapsed": false,
     "input": [
      "website('http://jakevdp.github.io/blog/2013/12/05/static-interactive-widgets', None)"
     ],
     "language": "python",
     "metadata": {},
     "outputs": [
      {
       "html": [
        "<iframe src=\"http://jakevdp.github.io/blog/2013/12/05/static-interactive-widgets\"  width=\"800\" height=\"450\"></iframe>"
       ],
       "metadata": {},
       "output_type": "pyout",
       "prompt_number": 15,
       "text": [
        "<IPython.core.display.HTML at 0x41de1d0>"
       ]
      }
     ],
     "prompt_number": 15
    },
    {
     "cell_type": "markdown",
     "metadata": {
      "slideshow": {
       "slide_type": "slide"
      }
     },
     "source": [
      "<div class=\"slide-header\">Books: \"Literate Computing\"</div>\n",
      "\n",
      "Python for Signal Processing, By [Jose Unpingco](https://github.com/unpingco/Python-for-Signal-Processing)\n",
      "\n",
      "<table>\n",
      "<tr>\n",
      "\n",
      "<td>\n",
      "<ul>\n",
      "<li><a href=\"http://link.springer.com/book/10.1007/978-3-319-01342-8/page/1\" target=_blank>Springer hardcover</a> book</li>\n",
      "<li>Each chapter is an IPython Notebook</li>\n",
      "<li>Posted as a <a href=\"http://python-for-signal-processing.blogspot.com/\">blog entry</a></li>\n",
      "<li>And all available as a <a href=\"https://github.com/unpingco/Python-for-Signal-Processing\">Github repo</a></li>\n",
      "</ul>\n",
      "</td>\n",
      "\n",
      "<td>\n",
      "<img src=\"fig/book_pfsp.jpg\" width=\"60%\">\n",
      "</td>\n",
      "\n",
      "</tr>\n",
      "</table>"
     ]
    },
    {
     "cell_type": "markdown",
     "metadata": {
      "slideshow": {
       "slide_type": "slide"
      }
     },
     "source": [
      "<div class=\"slide-header\">... \"Mining the Social Web\"</div>\n",
      "By [Matthew Russell](https://github.com/ptwobrussell).\n",
      "\n",
      "<table>\n",
      "<tr>\n",
      "\n",
      "<td>\n",
      "<ul>\n",
      "<li><a href=\"http://shop.oreilly.com/product/0636920010203.do\" target=_blank>O'Reilly</a> book</li>\n",
      "<li>Companion Notebook collection</li>\n",
      "<li>All available as a <a href=\"https://github.com/ptwobrussell/Mining-the-Social-Web-2nd-Edition\">Github repo</a></li>\n",
      "</ul>\n",
      "</td>\n",
      "\n",
      "<td>\n",
      "<img src=\"fig/book_mtsw.jpg\" width=\"60%\">\n",
      "</td>\n",
      "\n",
      "</tr>\n",
      "</table>"
     ]
    },
    {
     "cell_type": "markdown",
     "metadata": {
      "slideshow": {
       "slide_type": "slide"
      }
     },
     "source": [
      "<div class=\"slide-header\">NBViewer: Share notebooks online </div>\n",
      "## Matthias Bussonnier, 2012"
     ]
    },
    {
     "cell_type": "code",
     "collapsed": false,
     "input": [
      "website('nbviewer.ipython.org', None)"
     ],
     "language": "python",
     "metadata": {},
     "outputs": [
      {
       "html": [
        "<iframe src=\"http://nbviewer.ipython.org\"  width=\"800\" height=\"450\"></iframe>"
       ],
       "metadata": {},
       "output_type": "pyout",
       "prompt_number": 22,
       "text": [
        "<IPython.core.display.HTML at 0x3119490>"
       ]
      }
     ],
     "prompt_number": 22
    },
    {
     "cell_type": "markdown",
     "metadata": {
      "slideshow": {
       "slide_type": "slide"
      }
     },
     "source": [
      "## Opening up science \n",
      "### Brian Keegan and 538"
     ]
    },
    {
     "cell_type": "code",
     "collapsed": false,
     "input": [
      "website('http://fivethirtyeight.com/features/the-dollar-and-cents-case-against-hollywoods-exclusion-of-women/', None)"
     ],
     "language": "python",
     "metadata": {},
     "outputs": [
      {
       "html": [
        "<iframe src=\"http://fivethirtyeight.com/features/the-dollar-and-cents-case-against-hollywoods-exclusion-of-women/\"  width=\"800\" height=\"450\"></iframe>"
       ],
       "metadata": {},
       "output_type": "pyout",
       "prompt_number": 13,
       "text": [
        "<IPython.core.display.HTML at 0x41de190>"
       ]
      }
     ],
     "prompt_number": 13
    },
    {
     "cell_type": "markdown",
     "metadata": {
      "slideshow": {
       "slide_type": "slide"
      }
     },
     "source": [
      "# Brian Keegan's amazing notebook\n",
      "\n",
      "* [The Need for Openness in Data Journalism](http://nbviewer.ipython.org/github/brianckeegan/Bechdel/blob/master/Bechdel_test.ipynb)\n",
      "\n",
      "* [Reply from 538 team](http://fivethirtyeight.com/datalab/the-bechdel-test-checking-our-work/) (emph. mine):\n",
      "\n",
      "Keegan also made a larger point: *<span class=\"emph\">FiveThirtyEight and similar sites should make their data available. We couldn\u2019t agree more</span>*. We\u2019re exploring ways of making our raw code and data available to readers, including through FiveThirtyEight\u2019s GitHub account."
     ]
    },
    {
     "cell_type": "markdown",
     "metadata": {
      "slideshow": {
       "slide_type": "slide"
      }
     },
     "source": [
      "<p class=\"gap2\"></p>\n",
      "# Others building atop IPython\n",
      "## OSS and commercial players"
     ]
    },
    {
     "cell_type": "markdown",
     "metadata": {
      "slideshow": {
       "slide_type": "slide"
      }
     },
     "source": [
      "# Enthought Canopy\n",
      "<center>\n",
      "<img src=\"fig/ipython-canopy.png\" width=\"80%\">\n",
      "</center>"
     ]
    },
    {
     "cell_type": "markdown",
     "metadata": {
      "slideshow": {
       "slide_type": "slide"
      }
     },
     "source": [
      "# Continuum Analytics: Wakari.io\n",
      "<center>\n",
      "<img src=\"fig/wakari-pendulum.png\" width=\"80%\">\n",
      "</center>"
     ]
    },
    {
     "cell_type": "markdown",
     "metadata": {
      "slideshow": {
       "slide_type": "slide"
      }
     },
     "source": [
      "# Microsoft Python Tools for Visual Studio\n",
      "### Shahrokh Mortazavi, Dino Viehland, Wenming Ye, Dennis Gannon. Thanks!!\n",
      "<center>\n",
      "<a href=\"http://blogs.msdn.com/b/somasegar/archive/2014/04/10/python-tools-for-visual-studio-2-1-beta.aspx\"><img src=\"fig/ptvs-ipython-2014.png\" width=\"80%\"></a>\n",
      "</center>"
     ]
    },
    {
     "cell_type": "markdown",
     "metadata": {
      "slideshow": {
       "slide_type": "slide"
      }
     },
     "source": [
      "<div class=\"slide-header\">Microsoft Azure (S. Mortazavi, W. Ye)</div>\n",
      "\n",
      "<center>\n",
      "<img src=\"fig/azure-notebook.png\" width=\"70%\">\n",
      "</center>"
     ]
    },
    {
     "cell_type": "markdown",
     "metadata": {
      "slideshow": {
       "slide_type": "slide"
      }
     },
     "source": [
      "# StarCluster\n",
      "## Justin Riley @ MIT\n",
      "<center>\n",
      "<img src=\"fig/starcluster_overview.png\" width=\"80%\">\n",
      "</center>"
     ]
    },
    {
     "cell_type": "markdown",
     "metadata": {
      "slideshow": {
       "slide_type": "slide"
      }
     },
     "source": [
      "# IBM Watson\n",
      "<center>\n",
      "<img src=\"fig/ibm-watson-ipython.png\" width=\"80%\">\n",
      "</center>"
     ]
    },
    {
     "cell_type": "markdown",
     "metadata": {
      "slideshow": {
       "slide_type": "slide"
      }
     },
     "source": [
      "## Authorea: collaborative academic writing"
     ]
    },
    {
     "cell_type": "code",
     "collapsed": false,
     "input": [
      "website('https://www.authorea.com/users/3/articles/3904/_show_article', None)"
     ],
     "language": "python",
     "metadata": {},
     "outputs": [
      {
       "html": [
        "<iframe src=\"https://www.authorea.com/users/3/articles/3904/_show_article\"  width=\"800\" height=\"450\"></iframe>"
       ],
       "metadata": {},
       "output_type": "pyout",
       "prompt_number": 14,
       "text": [
        "<IPython.core.display.HTML at 0x41de790>"
       ]
      }
     ],
     "prompt_number": 14
    },
    {
     "cell_type": "markdown",
     "metadata": {
      "slideshow": {
       "slide_type": "slide"
      }
     },
     "source": [
      "# Plotly: d3, server-side plots with data"
     ]
    },
    {
     "cell_type": "code",
     "collapsed": false,
     "input": [
      "import plotly\n",
      "from pldemo import boxes, layout\n",
      "py = plotly.plotly('IPython.Demo', '1fw3zw2o13')\n",
      "py.iplot(boxes, layout = layout, filename='Distributions', fileopt='overwrite', \n",
      "         width=700, height=400)"
     ],
     "language": "python",
     "metadata": {},
     "outputs": [
      {
       "html": [
        "<iframe height=\"425\" id=\"igraph\" scrolling=\"no\" seamless=\"seamless\" src=\"https://plot.ly/~IPython.Demo/1101/700/400\" width=\"725\"></iframe>"
       ],
       "metadata": {},
       "output_type": "pyout",
       "prompt_number": 8,
       "text": [
        "<IPython.core.display.HTML at 0x42b1f90>"
       ]
      }
     ],
     "prompt_number": 8
    },
    {
     "cell_type": "markdown",
     "metadata": {
      "slideshow": {
       "slide_type": "slide"
      }
     },
     "source": [
      "# NBDiff\n",
      "\n",
      "### U. Toronto students, mentored by Greg Wilson\n",
      "\n",
      "Talk to Tavish Armstrong!"
     ]
    },
    {
     "cell_type": "code",
     "collapsed": false,
     "input": [
      "website('nbdiff.org', None)"
     ],
     "language": "python",
     "metadata": {},
     "outputs": [
      {
       "html": [
        "<iframe src=\"http://nbdiff.org\"  width=\"800\" height=\"450\"></iframe>"
       ],
       "metadata": {},
       "output_type": "pyout",
       "prompt_number": 10,
       "text": [
        "<IPython.core.display.HTML at 0x3189b50>"
       ]
      }
     ],
     "prompt_number": 10
    },
    {
     "cell_type": "markdown",
     "metadata": {
      "slideshow": {
       "slide_type": "slide"
      }
     },
     "source": [
      "# Wrapping up\n",
      "\n",
      "* **Python and Science**\n",
      "  - The **<span class=\"emph\">language</span>** lured me in...\n",
      "  - But I stayed for the **<span class=\"emph\">community</span>**!\n",
      "  - This conversation is only getting better!\n",
      "\n",
      "* **IPython**\n",
      "  - Language-agnostic **<span class=\"emph\">protocols</span>** for interactive computing.\n",
      "  - **<span class=\"emph\">Open format</span>** for sharing, collaboration, publication.\n",
      "  - Tools for **<span class=\"emph\">all</span>** Pythonistas, *not just scientists*.\n",
      "  \n",
      "* **Thank you!**\n",
      "  - **<span class=\"emph\">Guido van Rossum</span>**, Python-dev.\n",
      "  - **<span class=\"emph\">Diana Clarke</span>**, **<span class=\"emph\">Dave Wolever</span>**, PyCon'14 team!"
     ]
    }
   ],
   "metadata": {}
  }
 ]
}