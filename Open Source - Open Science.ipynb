{
 "metadata": {
  "name": "",
  "signature": "sha256:40a031b44d013f8a73ad9bf7da59b67319a357a7b912b1f9475ccdfb5733b369"
 },
 "nbformat": 3,
 "nbformat_minor": 0,
 "worksheets": [
  {
   "cells": [
    {
     "cell_type": "markdown",
     "metadata": {
      "slideshow": {
       "slide_type": "slide"
      }
     },
     "source": [
      "<div class=\"slide-header\">The ideals of science</div>\n",
      "\n",
      "* The pursuit of verifiable answers about the world.\n",
      "* The validation of our results by reproduction.\n",
      "* An altruistic, collective enterprise for humanity's benefit."
     ]
    },
    {
     "cell_type": "code",
     "collapsed": false,
     "input": [
      "%pylab inline\n",
      "%run talktools"
     ],
     "language": "python",
     "metadata": {
      "slideshow": {
       "slide_type": "skip"
      }
     },
     "outputs": [
      {
       "output_type": "stream",
       "stream": "stdout",
       "text": [
        "Populating the interactive namespace from numpy and matplotlib\n"
       ]
      },
      {
       "html": [
        "<style>\n",
        "/*\n",
        "   Simple CSS styling for using IPython Notebooks for talks.\n",
        "\n",
        "   Author: Fernando Perez <fernando.perez@berkeley.edu>\n",
        "*/\n",
        "\n",
        ".talk-title\n",
        "{\n",
        "  color: #498AF3;\n",
        "  font-size: 220%;\n",
        "  font-weight:bold;\n",
        "  line-height: 1.2;\n",
        "  margin: 10px 50px 10px;\n",
        "  }\n",
        "\n",
        ".talk-subtitle\n",
        "{\n",
        "  color: #386BBC;\n",
        "  font-size: 150%;\n",
        "  font-weight:bold;\n",
        "  line-height: 1.2;\n",
        "  margin: 20px 50px 20px;\n",
        "  }\n",
        "\n",
        ".slide-header, p.slide-header\n",
        "{\n",
        "  color: #498AF3;\n",
        "  font-size: 180%;\n",
        "  font-weight:bold;\n",
        "  margin: 0px 20px 10px;\n",
        "  page-break-before: always;\n",
        "  text-align: center;\n",
        "  }\n",
        "\n",
        ".rendered_html\n",
        "{\n",
        "  color: #2C5494;\n",
        "  font-family: Ubuntu;\n",
        "  font-size: 170%;\n",
        "  line-height: 1.1;\n",
        "  margin: 0.5em 0;\n",
        "  }\n",
        "\n",
        ".rendered_html h1\n",
        "{\n",
        "  color: #498AF3;\n",
        "  line-height: 1.2;\n",
        "  margin: 0.15em 0em 0.5em;\n",
        "  page-break-before: always;\n",
        "  text-align: center;\n",
        "  }\n",
        "\n",
        "\n",
        ".rendered_html h2\n",
        "{\n",
        "  color: #386BBC;\n",
        "  line-height: 1.2;\n",
        "  margin: 1.1em 0em 0.5em;\n",
        "  }\n",
        "\n",
        ".rendered_html h3\n",
        "{\n",
        "  font-size: 100%;\n",
        "  line-height: 1.2;\n",
        "  margin: 1.1em 0em 0.5em;\n",
        "  }\n",
        "\n",
        ".rendered_html h5\n",
        "{\n",
        "  font-size: 50%;\n",
        "  line-height: 1;\n",
        "  margin: 0.3em 0em 0.3em;\n",
        "  font-weight: bold;\n",
        "  text-align: center;\n",
        "  }\n",
        "\n",
        ".rendered_html h6\n",
        "{\n",
        "  font-size: 50%;\n",
        "  line-height: 1;\n",
        "  margin: 0.3em 0em 0.3em;\n",
        "  font-weight: normal;\n",
        "  text-align: center;\n",
        "  }\n",
        "\n",
        ".rendered_html li\n",
        "{\n",
        "  line-height: 1.8;\n",
        "  }\n",
        "\n",
        ".input_prompt, .CodeMirror-lines, .output_area\n",
        "{\n",
        "  font-family: Consolas;\n",
        "  font-size: 120%;\n",
        "  }\n",
        "\n",
        ".gap-above\n",
        "{\n",
        "  padding-top: 200px;\n",
        "  }\n",
        "\n",
        ".gap01\n",
        "{\n",
        "  padding-top: 10px;\n",
        "  }\n",
        "\n",
        ".gap05\n",
        "{\n",
        "  padding-top: 50px;\n",
        "  }\n",
        "\n",
        ".gap1\n",
        "{\n",
        "  padding-top: 100px;\n",
        "  }\n",
        "\n",
        ".gap2\n",
        "{\n",
        "  padding-top: 200px;\n",
        "  }\n",
        "\n",
        ".gap3\n",
        "{\n",
        "  padding-top: 300px;\n",
        "  }\n",
        "\n",
        ".emph\n",
        "{\n",
        "  color: #386BBC;\n",
        "  }\n",
        "\n",
        ".strike\n",
        "{\n",
        "  text-decoration:line-through;\n",
        "  color: #94B8F3;\n",
        "  }\n",
        "\n",
        ".warn\n",
        "{\n",
        "  color: red;\n",
        "  }\n",
        "\n",
        ".center\n",
        "{\n",
        "  text-align: center;\n",
        "  }\n",
        "\n",
        ".nb_link\n",
        "{\n",
        "    padding-bottom: 0.5em;\n",
        "}\n",
        "\n",
        "</style>\n"
       ],
       "metadata": {},
       "output_type": "display_data",
       "text": [
        "<IPython.core.display.HTML at 0x7f53e9307150>"
       ]
      }
     ],
     "prompt_number": 1
    },
    {
     "cell_type": "markdown",
     "metadata": {
      "slideshow": {
       "slide_type": "slide"
      }
     },
     "source": [
      "<div class=\"slide-header\">The <span class=\"strike\">ideals</span> reality of science</div>\n",
      "\n",
      "* <span class=\"strike\">The pursuit of verifiable answers about the world.</span>\n",
      " - **The pursuit of highly cited papers for your CV.**\n",
      "* <span class=\"strike\">The validation of our results by reproduction.</span>\n",
      " - **Validation by convincing journal referees who didn't see your code or data.**\n",
      "* <span class=\"strike\">An altruistic, collective enterprise  for humanity's benefit.</span>\n",
      " - **A deadly race to outrun your colleagues in front of the bear of grant funding.**"
     ]
    },
    {
     "cell_type": "markdown",
     "metadata": {
      "slideshow": {
       "slide_type": "slide"
      }
     },
     "source": [
      "<div class=\"slide-header\">Open Source Software in this context</div>\n",
      "\n",
      "* <span class=\"emph\">Open, collaborative by definition.</span>\n",
      "  - Industrial competition can coexist...\n",
      "  \n",
      "* <span class=\"emph\">Continuous</span>, public process.\n",
      "  - Software releases part of the process.\n",
      "  - Distributed credit.\n",
      "  - Open peer review.\n",
      "\n",
      "* <span class=\"emph\">Reproducible by necessity.</span>\n",
      "\n",
      "* <span class=\"emph\">Public bug tracking.</span>\n",
      "\n",
      "* Automated <span class=\"emph\">testing</span>.\n",
      "  - \"It taught me how often I make mistakes\" - M. Brett."
     ]
    },
    {
     "cell_type": "markdown",
     "metadata": {
      "slideshow": {
       "slide_type": "slide"
      }
     },
     "source": [
      "# Scientific computing: varied and complex\n",
      "\n",
      "<center><img src=\"fig/scicomp_timeline.png\" width=\"70%\"></center>"
     ]
    },
    {
     "cell_type": "markdown",
     "metadata": {
      "slideshow": {
       "slide_type": "slide"
      }
     },
     "source": [
      "<center>\n",
      "<img src=\"fig/numpy-brief-history.png\" width=\"96%\"></img>\n",
      "</center>"
     ]
    },
    {
     "cell_type": "markdown",
     "metadata": {
      "slideshow": {
       "slide_type": "slide"
      }
     },
     "source": [
      "<center>\n",
      "<img src=\"fig/scipy-brief-history.png\" width=\"96%\"></img>\n",
      "</center>"
     ]
    },
    {
     "cell_type": "markdown",
     "metadata": {
      "slideshow": {
       "slide_type": "slide"
      }
     },
     "source": [
      "# PEP 465: meaningful dialogue\n",
      "\n",
      "* Feb 22 2014: [Nathaniel Smith proposes `A @ B`](http://mail.scipy.org/pipermail/scipy-dev/2014-February/019593.html)\n",
      "\n",
      "* Apr 8 2014: [Guido approves PEP](https://mail.python.org/pipermail/python-dev/2014-April/133819.html):\n",
      "<pre>\n",
      "[Python-Dev] PEP 465: A dedicated infix operator for matrix\tmultiplication\n",
      "Guido van Rossum guido at python.org \n",
      "\"I'm now accepting the PEP, so you all can stop joking around.\"\n",
      "</pre>\n",
      "\n",
      "* Apr 10 2014: [Benjamin Peterson implements it](http://bugs.python.org/issue21176)\n",
      "<pre>\n",
      "Title:\tImplement matrix multiplication operator (PEP 465)\n",
      "Created on 2014-04-08 02:51 by belopolsky, last changed 2014-04-10 03:56 by python-dev.\n",
      "This issue is now closed.\n",
      "</pre>\n",
      "\n"
     ]
    },
    {
     "cell_type": "markdown",
     "metadata": {
      "slideshow": {
       "slide_type": "slide"
      }
     },
     "source": [
      "# Python for us (Scientists)\n",
      "\n",
      "* <span class=\"emph\">Separation</span> of concerns: `*@python-dev` \n",
      "\n",
      "* Huge amount of <span class=\"emph\">leverage</span>: language and tools.\n",
      "\n",
      "* <span class=\"emph\">Industry</span> collaborations.\n",
      "\n",
      "* <span class=\"emph\">Culture</span> and community (BDFL model, PSF, PyCon, ...)."
     ]
    },
    {
     "cell_type": "markdown",
     "metadata": {
      "slideshow": {
       "slide_type": "slide"
      }
     },
     "source": [
      "# In the other direction: what do we contribute?\n",
      "\n",
      "* Tools with broad impact. Numpy:\n",
      "\n",
      "  - [Debian Popularity contest](http://qa.debian.org/popcon.php?package=python-numpy): ~58% installation.\n",
      "  - Included in OSX out of the box.\n",
      "  "
     ]
    },
    {
     "cell_type": "markdown",
     "metadata": {
      "slideshow": {
       "slide_type": "slide"
      }
     },
     "source": [
      "# Beyond Numpy: a whole ecosystem\n",
      "\n",
      "<center><img src=\"fig/scipy_ecosystem.png\" width=\"90%\"></center>"
     ]
    },
    {
     "cell_type": "markdown",
     "metadata": {
      "slideshow": {
       "slide_type": "slide"
      }
     },
     "source": [
      "# Scientists: a different community\n",
      "\n",
      "\n",
      "* Diversity in usage patterns/needs ([@ncoghlan_dev](https://twitter.com/ncoghlan_dev)).\n",
      "\n",
      "* Often academics:\n",
      "\n",
      "  - Expand Python's reach in higher education.\n",
      "  - UC Berkeley, MIT: core CS courses in Python.\n"
     ]
    },
    {
     "cell_type": "markdown",
     "metadata": {
      "slideshow": {
       "slide_type": "slide"
      }
     },
     "source": [
      "# Software Carpentry\n",
      "\n",
      "Sat. 4:15pm, talk by G. Wilson. Monday/Tuesday Workshop."
     ]
    },
    {
     "cell_type": "code",
     "collapsed": false,
     "input": [
      "website('http://software-carpentry.org')"
     ],
     "language": "python",
     "metadata": {},
     "outputs": [
      {
       "html": [
        "<div sytle=\"margin-bottom:10px\">\n",
        "<a href=\"http://software-carpentry.org\">http://software-carpentry.org</a>\n",
        "</div>\n",
        "<iframe src=\"http://software-carpentry.org\"  width=\"800\" height=\"450\"></iframe>"
       ],
       "metadata": {},
       "output_type": "pyout",
       "prompt_number": 2,
       "text": [
        "<IPython.core.display.HTML at 0x7f53f3383e10>"
       ]
      }
     ],
     "prompt_number": 2
    },
    {
     "cell_type": "markdown",
     "metadata": {
      "slideshow": {
       "slide_type": "slide"
      }
     },
     "source": [
      "# The \"Data Science\" buzz\n",
      "\n",
      "## [Trending Topics at Strata Conferences 2011-2014](http://beautifuldata.net/2014/01/trending-topics-at-strata-conferences-2011-2014/)\n",
      "\n",
      "<img src=\"fig/Strata_Lang1.png\" width=70%></img>\n",
      "\n",
      "Image credit: BENEDIKT KOEHLER."
     ]
    },
    {
     "cell_type": "markdown",
     "metadata": {
      "slideshow": {
       "slide_type": "slide"
      }
     },
     "source": [
      "## A new $37.8M initiative in Data Science\n",
      "\n",
      "* Moore/Sloan Foundations, 5 year support for *UC Berkeley*, *U. Washington*, *NYU*.\n",
      "* Open source, Python, central to our effort.\n",
      "* **We're hiring:** [Executive Director (now)](http://vcresearch.berkeley.edu/datascience/career-opportunities).\n",
      "\n",
      "<center>\n",
      "<h3>New Berkeley Institute for Data Science</h3>\n",
      "<a href=\"http://vcresearch.berkeley.edu/datascience/bids-launch-dec-12\"><img src=\"fig/BIDS-launch.png\" width=50%></img></a>\n",
      "</center>"
     ]
    },
    {
     "cell_type": "markdown",
     "metadata": {
      "slideshow": {
       "slide_type": "slide"
      }
     },
     "source": [
      "# Data Science & Education: CS 109 @ Harvard"
     ]
    },
    {
     "cell_type": "code",
     "collapsed": false,
     "input": [
      "website('http://cs109.org/homework/homework.php', None)"
     ],
     "language": "python",
     "metadata": {
      "slideshow": {
       "slide_type": "-"
      }
     },
     "outputs": [
      {
       "html": [
        "<iframe src=\"http://cs109.org/homework/homework.php\"  width=\"800\" height=\"450\"></iframe>"
       ],
       "metadata": {},
       "output_type": "pyout",
       "prompt_number": 15,
       "text": [
        "<IPython.core.display.HTML at 0x28a23d0>"
       ]
      }
     ],
     "prompt_number": 15
    },
    {
     "cell_type": "markdown",
     "metadata": {
      "slideshow": {
       "slide_type": "slide"
      }
     },
     "source": [
      "<center>\n",
      "<img src=\"fig/numfocus.png\" width=\"80%\">\n",
      "**http://numfocus.org**\n",
      "</center>\n",
      "\n",
      "### See Leah Silen at Continuum Booth!"
     ]
    }
   ],
   "metadata": {}
  }
 ]
}